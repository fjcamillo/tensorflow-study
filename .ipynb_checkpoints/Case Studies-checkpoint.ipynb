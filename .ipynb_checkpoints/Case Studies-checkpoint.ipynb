{
 "cells": [
  {
   "cell_type": "markdown",
   "metadata": {},
   "source": [
    "![ondoy](20130926-ondoy-anniv-02.jpg)"
   ]
  },
  {
   "cell_type": "markdown",
   "metadata": {},
   "source": [
    "![yl](young_lady.jpg)"
   ]
  },
  {
   "cell_type": "code",
   "execution_count": 2,
   "metadata": {
    "collapsed": false
   },
   "outputs": [
    {
     "name": "stdout",
     "output_type": "stream",
     "text": [
      "Test: (360, 640, 3), Train: (221, 62, 3)\n",
      "15\n",
      "62\n"
     ]
    }
   ],
   "source": [
    "# import matplotlib.pyplot as plt\n",
    "\n",
    "import matplotlib.image as mpimg\n",
    "# import tensorflow.contrib.learn as skflow\n",
    "\n",
    "filename_to_test = \"20130926-ondoy-anniv-02.jpg\"\n",
    "image_to_test = mpimg.imread(filename_to_test)\n",
    "\n",
    "filename_for_training = \"young_lady.jpg\"\n",
    "image_for_training = mpimg.imread(filename_for_training)\n",
    "\n",
    "shape_test = image_to_test.shape\n",
    "shape_train = image_for_training.shape\n",
    "print(\"Test: %s, Train: %s\" % (shape_test, shape_train))\n",
    "\n",
    "labels = [\n",
    "    [[255,255,255],\n",
    "     [255,255,255]]]\n",
    "\n",
    "# for (i,j) in range(len(image_to_test)):\n",
    "\n",
    "\n",
    "# for i in range(len(image_to_test)):\n",
    "#     for j in range(len(image_for_training)):\n",
    "#         labels.append(1) if image_for_training[j] == image_to_test[i] else labels.append(0)\n",
    "  \n",
    "        \n",
    "            \n",
    "print(image_for_training[0,1,0])\n",
    "print(len(image_for_training[0]))\n",
    "        \n",
    "\n",
    "# import tensorflow.contrib.learn as skflow\n",
    "\n",
    "# X = tf.placeholder('uint8', [None, None, 3])\n",
    "\n",
    "# x_sliced = \n",
    "\n",
    "# model = tf.initialize_all_variables()\n",
    "\n",
    "# with tf.Session() as sess:\n",
    "#     sess.run(model)\n",
    "#     sess.run(X)"
   ]
  },
  {
   "cell_type": "code",
   "execution_count": 2,
   "metadata": {
    "collapsed": false
   },
   "outputs": [
    {
     "name": "stdout",
     "output_type": "stream",
     "text": [
      "Tensor(\"adjust_contrast_1/convert_image_1:0\", shape=(360, 640, 3), dtype=uint8)\n"
     ]
    }
   ],
   "source": [
    "import matplotlib.image as mpimg\n",
    "import matplotlib.pyplot as plt\n",
    "\n",
    "filename = \"20130926-ondoy-anniv-02.jpg\"\n",
    "image = mpimg.imread(filename)\n",
    "\n",
    "import tensorflow as tf\n",
    "\n",
    "x = tf.Variable(image)\n",
    "\n",
    "with tf.Session() as sess:\n",
    "    y = tf.image.random_contrast(x, 0, 125, seed=None)\n",
    "    print(y)\n",
    "    \n",
    "# plt.plot(y)\n",
    "#plt.imshow(y)\n",
    "#plt.show()"
   ]
  },
  {
   "cell_type": "code",
   "execution_count": 3,
   "metadata": {
    "collapsed": true
   },
   "outputs": [],
   "source": [
    "import matplotlib.image as mpimg\n",
    "import tensorflow as tf"
   ]
  },
  {
   "cell_type": "code",
   "execution_count": 4,
   "metadata": {
    "collapsed": true
   },
   "outputs": [],
   "source": [
    "filename = \"20130926-ondoy-anniv-02.jpg\"\n",
    "image_for_test = mpimg.imread(filename)\n",
    "\n",
    "filename_for_training = \"young_lady.jpg\"\n",
    "image_for_training = mpimg.imread(filename_for_training)"
   ]
  },
  {
   "cell_type": "code",
   "execution_count": 5,
   "metadata": {
    "collapsed": true
   },
   "outputs": [],
   "source": [
    "from sklearn.ensemble import RandomForestClassifier"
   ]
  },
  {
   "cell_type": "code",
   "execution_count": null,
   "metadata": {
    "collapsed": true
   },
   "outputs": [],
   "source": []
  }
 ],
 "metadata": {
  "kernelspec": {
   "display_name": "Python 2",
   "language": "python",
   "name": "python2"
  },
  "language_info": {
   "codemirror_mode": {
    "name": "ipython",
    "version": 2
   },
   "file_extension": ".py",
   "mimetype": "text/x-python",
   "name": "python",
   "nbconvert_exporter": "python",
   "pygments_lexer": "ipython2",
   "version": "2.7.11"
  }
 },
 "nbformat": 4,
 "nbformat_minor": 0
}
